{
  "nbformat": 4,
  "nbformat_minor": 0,
  "metadata": {
    "colab": {
      "provenance": [],
      "authorship_tag": "ABX9TyM+czyPrRL2xkgwVtXddDKZ",
      "include_colab_link": true
    },
    "kernelspec": {
      "name": "python3",
      "display_name": "Python 3"
    },
    "language_info": {
      "name": "python"
    }
  },
  "cells": [
    {
      "cell_type": "markdown",
      "metadata": {
        "id": "view-in-github",
        "colab_type": "text"
      },
      "source": [
        "<a href=\"https://colab.research.google.com/github/Rynnsya/Jobsheet-01-Algoritma-Pseudocode-dan-Flowchart/blob/main/Rasya_Pandu_Wicaksono_Jobsheet1.ipynb\" target=\"_parent\"><img src=\"https://colab.research.google.com/assets/colab-badge.svg\" alt=\"Open In Colab\"/></a>"
      ]
    },
    {
      "cell_type": "markdown",
      "source": [
        "Praktikum 01. Menghitung Luas Persegi Panjang\n"
      ],
      "metadata": {
        "id": "9o_7TPqoP_m2"
      }
    },
    {
      "cell_type": "code",
      "source": [
        "p = int (input(\"Masukkan panjang: \"))\n",
        "l = int (input(\"Masukkan lebar: \"))\n",
        "luas = p * l\n",
        "print(\"Luas persegi panjang =\", luas)"
      ],
      "metadata": {
        "colab": {
          "base_uri": "https://localhost:8080/"
        },
        "id": "Z0e4FL9dP_C0",
        "outputId": "fb32b533-e7ad-48db-ff69-55ba1c27e3ac"
      },
      "execution_count": null,
      "outputs": [
        {
          "output_type": "stream",
          "name": "stdout",
          "text": [
            "Masukkan panjang: 3\n",
            "Masukkan lebar: 6\n",
            "Luas persegi panjang = 18\n"
          ]
        }
      ]
    },
    {
      "cell_type": "markdown",
      "source": [
        "Praktikum 02. Menghitung Luas Segitiga (Rumus Heron)"
      ],
      "metadata": {
        "id": "7tpO4FLTRZkv"
      }
    },
    {
      "cell_type": "code",
      "source": [
        "import math\n",
        "\n",
        "a = float(input(\"Masukkan sisi a: \"))\n",
        "b = float(input(\"Masukkan sisi b: \"))\n",
        "c = float(input(\"Masukkan sisi c: \"))\n",
        "\n",
        "s = (a + b + c) / 2\n",
        "luas = math.sqrt(s * (s - a) * (s - b) * (s - c))\n",
        "print(\"Luas segitiga =\", luas)"
      ],
      "metadata": {
        "colab": {
          "base_uri": "https://localhost:8080/"
        },
        "id": "mHENbVf7Tkft",
        "outputId": "5d8adcfc-2ae7-4058-9a85-b1f3e170e072"
      },
      "execution_count": null,
      "outputs": [
        {
          "output_type": "stream",
          "name": "stdout",
          "text": [
            "Masukkan sisi a: 3\n",
            "Masukkan sisi b: 4\n",
            "Masukkan sisi c: 5\n",
            "Luas segitiga = 6.0\n"
          ]
        }
      ]
    },
    {
      "cell_type": "markdown",
      "source": [
        "Praktikum 03. Konversi Suhu Celcius ke Fahrenheit"
      ],
      "metadata": {
        "id": "UHd3-mUlVBsF"
      }
    },
    {
      "cell_type": "code",
      "source": [
        "c = float(input(\"Masukkan suhu (°C):\"))\n",
        "f = (c * 9/5) + 32\n",
        "print(\"Hasil konversi =\", f, \"°F\")"
      ],
      "metadata": {
        "colab": {
          "base_uri": "https://localhost:8080/"
        },
        "id": "yfKnL5foUtoW",
        "outputId": "d00a4410-b8a7-484c-f9cf-7b481228fe5b"
      },
      "execution_count": null,
      "outputs": [
        {
          "output_type": "stream",
          "name": "stdout",
          "text": [
            "Masukkan suhu (°C):20\n",
            "Hasil konversi = 68.0 °F\n"
          ]
        }
      ]
    },
    {
      "cell_type": "markdown",
      "source": [
        "Praktikum 04. Menghitung Umur Berdasarkan Tahun Lahir"
      ],
      "metadata": {
        "id": "4eGC-_brVjg9"
      }
    },
    {
      "cell_type": "code",
      "source": [
        "tahun_lahir = int(input(\"Masukkan tahun lahir: \"))\n",
        "tahun_sekarang = 2025\n",
        "umur = tahun_sekarang - tahun_lahir\n",
        "print(\"Umur anda =\", umur, \"tahun\")\n"
      ],
      "metadata": {
        "colab": {
          "base_uri": "https://localhost:8080/"
        },
        "id": "1q-O89XJVgo_",
        "outputId": "c16768e7-7301-44aa-d48c-a2bb2b121213"
      },
      "execution_count": null,
      "outputs": [
        {
          "output_type": "stream",
          "name": "stdout",
          "text": [
            "Masukkan tahun lahir: 2007\n",
            "Umur anda = 18 tahun\n"
          ]
        }
      ]
    },
    {
      "cell_type": "markdown",
      "source": [
        "Praktikum 05. Menghitung Luas Lingkaran"
      ],
      "metadata": {
        "id": "fKgL9DFmWfrb"
      }
    },
    {
      "cell_type": "code",
      "source": [
        "import math\n",
        "r = float(input(\"Masukkan jari-jari lingkaran: \"))\n",
        "luas = math.pi * r * r\n",
        "print(\"Luas lingkaran =\", luas)"
      ],
      "metadata": {
        "colab": {
          "base_uri": "https://localhost:8080/"
        },
        "id": "KnhEmo_EWEdQ",
        "outputId": "72bb3c67-b4bf-442f-b406-a181ebf908c0"
      },
      "execution_count": null,
      "outputs": [
        {
          "output_type": "stream",
          "name": "stdout",
          "text": [
            "Masukkan jari-jari lingkaran: 20\n",
            "Luas lingkaran = 1256.6370614359173\n"
          ]
        }
      ]
    },
    {
      "cell_type": "markdown",
      "source": [
        "Praktikum 06. Menjumlahkan Tiga Bilangan"
      ],
      "metadata": {
        "id": "uuMKwuq4W31_"
      }
    },
    {
      "cell_type": "code",
      "source": [
        "a = int(input(\"Masukkan bilangan pertama:\"))\n",
        "b = int(input(\"Masukkan bilangan kedua: \"))\n",
        "c = int(input(\"Masukkan bilangan ketiga:\"))\n",
        "jumlah = a + b + c\n",
        "print(\"Jumlah =\", jumlah)"
      ],
      "metadata": {
        "colab": {
          "base_uri": "https://localhost:8080/"
        },
        "id": "fVM0NqSfWrpC",
        "outputId": "5884b15d-ff0c-4e4a-b1fa-c7171d67b229"
      },
      "execution_count": null,
      "outputs": [
        {
          "output_type": "stream",
          "name": "stdout",
          "text": [
            "Masukkan bilangan pertama:1\n",
            "Masukkan bilangan kedua: 2\n",
            "Masukkan bilangan ketiga:3\n",
            "Jumlah = 6\n"
          ]
        }
      ]
    },
    {
      "cell_type": "markdown",
      "source": [
        "Penugasan 03. Menghitung Volume Balok"
      ],
      "metadata": {
        "id": "57KMdomDjhxM"
      }
    },
    {
      "cell_type": "code",
      "source": [
        "p = float(input(\"Masukkan panjang balok: \"))\n",
        "l = float(input(\"Masukkan lebar balok: \"))\n",
        "t = float(input(\"Masukkan tinggi balok: \"))\n",
        "volume = p * l * t\n",
        "print(\"Volume balok =\", volume)"
      ],
      "metadata": {
        "id": "3NR2RS6rXi0n",
        "colab": {
          "base_uri": "https://localhost:8080/"
        },
        "outputId": "92d54d27-49f7-470e-b0a2-a26a00c90774"
      },
      "execution_count": null,
      "outputs": [
        {
          "output_type": "stream",
          "name": "stdout",
          "text": [
            "Masukkan panjang balok: 20\n",
            "Masukkan lebar balok: 10\n",
            "Masukkan tinggi balok: 5\n",
            "Volume balok = 1000.0\n"
          ]
        }
      ]
    },
    {
      "cell_type": "markdown",
      "source": [
        "Penugasan 04. Konversi Waktu (Detik ke Jam:Menit:Detik)\n"
      ],
      "metadata": {
        "id": "U2MqPDzCDKmQ"
      }
    },
    {
      "cell_type": "code",
      "source": [
        "detik_total = int(input(\"Masukkan detik: \"))\n",
        "detik = detik_total % 60\n",
        "menit = (detik_total // 60) % 60\n",
        "jam = (detik_total // 60) // 60\n",
        "print(f\"{jam} jam, {menit} menit, {detik} detik\")"
      ],
      "metadata": {
        "colab": {
          "base_uri": "https://localhost:8080/"
        },
        "id": "xvLnXBnOEkhV",
        "outputId": "a6b055ff-112e-4d25-d31b-f5be41fa69e1"
      },
      "execution_count": null,
      "outputs": [
        {
          "output_type": "stream",
          "name": "stdout",
          "text": [
            "Masukkan detik: 120\n",
            "0 jam, 2 menit, 0 detik\n"
          ]
        }
      ]
    },
    {
      "cell_type": "markdown",
      "source": [
        "Penugasan 05. Rata-rata Nilai Tiga Mata Kuliah"
      ],
      "metadata": {
        "id": "W_RorCK_HSPK"
      }
    },
    {
      "cell_type": "code",
      "source": [
        "nilai1 = float(input(\"Masukkan nilai mata kuliah 1: \"))\n",
        "nilai2 = float(input(\"Masukkan nilai mata kuliah 2: \"))\n",
        "nilai3 = float(input(\"Masukkan nilai mata kuliah 3: \"))\n",
        "\n",
        "rata = (nilai1 + nilai2 + nilai3) / 3\n",
        "\n",
        "print(\"Rata-rata =\", rata)\n",
        "\n",
        "if rata >= 60:\n",
        "    print(\"Lulus\")\n",
        "else:\n",
        "    print(\"Tidak Lulus\")"
      ],
      "metadata": {
        "colab": {
          "base_uri": "https://localhost:8080/"
        },
        "id": "sPl7_HN8GwYL",
        "outputId": "4e7f8a41-66af-431c-f2ef-a7b288ffef2f"
      },
      "execution_count": null,
      "outputs": [
        {
          "output_type": "stream",
          "name": "stdout",
          "text": [
            "Masukkan nilai mata kuliah 1: 80\n",
            "Masukkan nilai mata kuliah 2: 70\n",
            "Masukkan nilai mata kuliah 3: 60\n",
            "Rata-rata = 70.0\n",
            "Lulus\n"
          ]
        }
      ]
    },
    {
      "cell_type": "markdown",
      "source": [
        "Penugasan 06. Menghitung Diskon Belanja"
      ],
      "metadata": {
        "id": "Tl46uLsbHrBq"
      }
    },
    {
      "cell_type": "code",
      "source": [
        "belanja = float(input(\"Masukkan total belanja: \"))\n",
        "\n",
        "if belanja >= 500000:\n",
        "    diskon = 0.20 * belanja\n",
        "elif belanja >= 250000:\n",
        "    diskon = 0.10 * belanja\n",
        "else:\n",
        "    diskon = 0\n",
        "\n",
        "total = belanja - diskon\n",
        "\n",
        "print(\"Total belanja = Rp\", belanja)\n",
        "print(\"Diskon = Rp\", diskon)\n",
        "print(\"Total bayar = Rp\", total)"
      ],
      "metadata": {
        "colab": {
          "base_uri": "https://localhost:8080/"
        },
        "id": "uJIPymZ0HkIQ",
        "outputId": "02235759-d061-4478-be23-8a196bc06de1"
      },
      "execution_count": null,
      "outputs": [
        {
          "output_type": "stream",
          "name": "stdout",
          "text": [
            "Masukkan total belanja: 6000000\n",
            "Total belanja = Rp 6000000.0\n",
            "Diskon = Rp 1200000.0\n",
            "Total bayar = Rp 4800000.0\n"
          ]
        }
      ]
    },
    {
      "cell_type": "code",
      "source": [],
      "metadata": {
        "id": "WSBPIIqrIIn8"
      },
      "execution_count": null,
      "outputs": []
    }
  ]
}